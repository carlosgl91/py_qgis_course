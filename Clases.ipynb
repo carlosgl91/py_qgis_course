{
  "cells": [
    {
      "cell_type": "markdown",
      "id": "d8e34305",
      "metadata": {
        "id": "d8e34305"
      },
      "source": [
        "# Curso introductorio de PyQGIS"
      ]
    },
    {
      "cell_type": "markdown",
      "id": "65cb6cc4",
      "metadata": {
        "id": "65cb6cc4"
      },
      "source": [
        "## Tema: Programación orientada a objetos (POO)"
      ]
    },
    {
      "cell_type": "markdown",
      "id": "98c3770f",
      "metadata": {
        "id": "98c3770f"
      },
      "source": [
        "#### Autor: Ing. Amb. Carlos Giménez\n",
        "#### Bibliografía:\n",
        "- https://docs.python.org/es/3/tutorial/classes.html#"
      ]
    },
    {
      "cell_type": "markdown",
      "id": "b625949d",
      "metadata": {
        "id": "b625949d"
      },
      "source": [
        "En este notebook se introducirá a la creación, manejo y propiedades de clases en Python, como base para el entendimiento del funcionamiento y estructura de las APIs de QGIS.  \n",
        "Para ello definiremos una clase, sus atributos y métodos (funciones), la instanciaremos y las modificaremos una vez instanciadas"
      ]
    },
    {
      "cell_type": "markdown",
      "source": [
        "### 1. Clases en Python"
      ],
      "metadata": {
        "id": "c1G5V6K5DLNF"
      },
      "id": "c1G5V6K5DLNF"
    },
    {
      "cell_type": "markdown",
      "id": "74e08316",
      "metadata": {
        "id": "74e08316"
      },
      "source": [
        "Las clases proveen una forma de empaquetar datos y funcionalidad juntos. Al crear una nueva clase, se crea un nuevo tipo de objeto, permitiendo crear nuevas instancias de ese tipo. Cada instancia de clase puede tener atributos adjuntos para mantener su estado. Las instancias de clase también pueden tener métodos (definidos por su clase) para modificar su estado.\n",
        "Para más información acerca del uso y propiedes de clases visitar el siguiente __[enlace](https://docs.python.org/es/3/tutorial/classes.html#)__\n",
        "\n"
      ]
    },
    {
      "cell_type": "markdown",
      "id": "c4682282",
      "metadata": {
        "id": "c4682282"
      },
      "source": [
        "Para la definición clases se utiliza la palabra reservada __class__  \n",
        "class NombreDeLaClase:  \n",
        "> Declaración 1\n",
        "> .  \n",
        "> .  \n",
        "> .  \n",
        "> Declaración n\n",
        "    "
      ]
    },
    {
      "cell_type": "markdown",
      "id": "84fb398a",
      "metadata": {
        "id": "84fb398a"
      },
      "source": [
        "En la práctica, las declaraciones dentro de una clase son definiciones de funciones, pero otras declaraciones son permitidas, y a veces resultan útiles. Las definiciones de funciones dentro de una clase normalmente tienen una lista de argumentos peculiar, dictada por las convenciones de invocación de métodos.  \n",
        "Cuando se ingresa una definición de clase, se crea un nuevo espacio de nombres, el cual se usa como ámbito local\n",
        "\n",
        "Cuando una definición de clase se finaliza normalmente se crea un objeto clase. Básicamente, este objeto envuelve los contenidos del espacio de nombres creado por la definición de la clase. El ámbito local original (el que tenía efecto justo antes de que ingrese la definición de la clase) es restablecido, y el objeto clase se asocia allí al nombre que se le puso a la clase en el encabezado de su definición (NombreDeLaClase en el ejemplo).\n",
        "\n",
        "#### 1.2  Espacios de nombres y ámbitos en el contexto de clases en Python\n",
        "\n",
        "__Espacios de nombres:__ Un espacio de nombres es un contenedor que almacena nombres de variables y sus correspondientes objetos en un programa. En Python, los espacios de nombres pueden ser módulos, clases o funciones. Cada espacio de nombres tiene su propio conjunto de nombres únicos. Esto ayuda a evitar conflictos entre nombres y proporciona un mecanismo para organizar y acceder a las variables y funciones.\n",
        "\n",
        "__Ámbitos (Scopes):__ Un ámbito es una región del código en la que se definen y se pueden acceder nombres de variables. En Python, los ámbitos están determinados por bloques de código, como funciones, clases o módulos. Los ámbitos pueden ser locales (definidos dentro de una función o método), globales (definidos en el nivel del módulo) o de clase (definidos dentro de una clase).\n",
        "\n",
        "En el contexto de las clases, los espacios de nombres y los ámbitos son importantes para organizar y acceder a los atributos y métodos de una clase:\n",
        "\n",
        "Espacio de nombres de clase: Es el espacio de nombres donde se definen los atributos y métodos de una clase. Los atributos de clase son compartidos por todas las instancias de la clase, mientras que los métodos de clase son funciones asociadas a la clase.\n",
        "\n",
        "Ámbito de clase: Es el ámbito en el que se definen los atributos y métodos de una clase. Los atributos y métodos de clase se definen directamente dentro del cuerpo de la clase, y pueden ser accedidos por todas las instancias de esa clase.\n",
        "\n",
        "Ámbito de instancia: Es el ámbito en el que se definen los atributos específicos de cada instancia de una clase. Los atributos de instancia se definen dentro de los métodos de la clase y son únicos para cada objeto creado a partir de la clase.\n",
        "\n",
        "En resumen, los espacios de nombres y los ámbitos en Python, especialmente en el contexto de las clases, proporcionan un mecanismo para organizar y acceder a los atributos y métodos de una clase. Los espacios de nombres de clase y los ámbitos de instancia permiten la creación de objetos con atributos únicos, mientras que los atributos de clase comparten valores entre todas las instancias de una clase."
      ]
    },
    {
      "cell_type": "code",
      "execution_count": null,
      "id": "f070b532",
      "metadata": {
        "colab": {
          "base_uri": "https://localhost:8080/"
        },
        "id": "f070b532",
        "outputId": "640ea394-4eae-45bc-cc7c-f7077343959c"
      },
      "outputs": [
        {
          "output_type": "stream",
          "name": "stdout",
          "text": [
            "Después de la asignación local: test spam\n",
            "Después de la asignación no local: nolocal spam\n",
            "Después de la asignación global pero dentro de la función: nolocal spam\n",
            "En el ámbito global: global spam\n"
          ]
        }
      ],
      "source": [
        "def scope_test():\n",
        "    def do_local():\n",
        "        # Aquí el nombre de variable \"spam\" hace referencia al valor de la variable de manera local, es decir dentro\n",
        "        # de la función do_local()\n",
        "        spam = \"local spam\"\n",
        "\n",
        "    def do_nonlocal():\n",
        "        # Aquí el nombre de variable \"spam\" hace referencia al ambito local de la función scope_test(), ya no solamente dentro\n",
        "        # de do_nonlocal()\n",
        "        nonlocal spam\n",
        "        spam = \"nolocal spam\"\n",
        "\n",
        "    def do_global():\n",
        "        # Aquí la variable spam pasa al ámbito global o más externo\n",
        "        global spam\n",
        "        spam = \"global spam\"\n",
        "\n",
        "    # Aquí la variable spam, hace referencia al ámbito global de la función scope_test(), notese que está declarado fuera\n",
        "    # de cualquier otra función\n",
        "\n",
        "    spam = \"test spam\"\n",
        "\n",
        "        # Entonces, al llamar a la función scope_test(), primero se definen las funciones internas do_local(), do_nonlocal(), y\n",
        "        # do_global(). Ninguna de estas funciones ha entrado en ejecución hasta que se las llame posteriormente ya sea dentro o\n",
        "        # fuera de la función.\n",
        "\n",
        "    # Prosiguiendo con la ejecución de la función, se llama a la función interna do_local()\n",
        "    do_local()\n",
        "\n",
        "        #  do_local() crea una variable spam en su ambito local y le asigna el valor \"local spam\", es decir ese valor solo es válido\n",
        "        # y accesible dentro de la función do_local()\n",
        "\n",
        "    # Por lo que al imprimir la variable spam, el valor retornado es \"test spam\", notese que se está usando la función print()\n",
        "    # fuera de la función do_local()\n",
        "    print(\"Después de la asignación local:\", spam)\n",
        "\n",
        "\n",
        "    do_nonlocal()\n",
        "        # Ahora se ha ejecutado la función  do_nonlocal(), la cual utiliza la declaración \"nonlocal\" para indicar que la variabl spam\n",
        "        # no es local a la función do_nonlocal() o no se hace referencia localmente, sino que al ámbito inmediatamente superior, es decir al ámbito de la función\n",
        "        # scope_test() en donde ya existe spam a la que le se asigna un valor \"nonlocal spam\", modificando así el valor previamente definido\n",
        "    print(\"Después de la asignación no local:\", spam)\n",
        "        # por lo que al imprimir spam luego de llamar a do_nonlocal(), se ha modificado el valor de spam dentro de la función\n",
        "        # pero en el ámbito local de scope_test()\n",
        "\n",
        "    do_global()\n",
        "        # al ejecutar la función do_global(), se indica que se hace referencia a la variable global spam, en caso de que no exista\n",
        "        # se crea la misma y se le asigna un valor \"global spam\", es importante notar que se está haciendo referencia a una variable\n",
        "        # fuera del ámbito local de scope_test() por lo que el valor de spam dentro de scope_test() sigue siendo \"nonlocal spam\"\n",
        "        # Y esto se demuestra imprimiendo, dentro de scope_test() spam\n",
        "    print(\"Después de la asignación global pero dentro de la función:\", spam)\n",
        "# Hasta aquí se ha definido la función scope_test(), es decir, ahora en el ámbito global llamamos a scope_test() la cual crea\n",
        "# por primera vez a spam y ejecuta las acciones anteriores\n",
        "scope_test()\n",
        "# Aquí fuera de scope_test(), se imprime la variable global spam, que ha sido modificada dentro de scope_test()\n",
        "print(\"En el ámbito global:\", spam)"
      ]
    },
    {
      "cell_type": "markdown",
      "id": "2951f13a",
      "metadata": {
        "id": "2951f13a"
      },
      "source": [
        "Si volvemos a llamar a scope_test(), notese que las referencias a la variable spam son realizadas de manera local en la función, pero también se crea una variable global llamada spam a la que se puede acceder de manera global"
      ]
    },
    {
      "cell_type": "code",
      "execution_count": null,
      "id": "31645c3a",
      "metadata": {
        "id": "31645c3a",
        "outputId": "e5704438-d9e4-43ad-9c81-16dc1f0a6207"
      },
      "outputs": [
        {
          "name": "stdout",
          "output_type": "stream",
          "text": [
            "Después de la asignación local: test spam\n",
            "Después de la asignación no local: nolocal spam\n",
            "Después de la asignación global pero dentro de la función: nolocal spam\n"
          ]
        },
        {
          "data": {
            "text/plain": [
              "'global spam'"
            ]
          },
          "execution_count": 52,
          "metadata": {},
          "output_type": "execute_result"
        }
      ],
      "source": [
        "scope_test()\n",
        "spam"
      ]
    },
    {
      "cell_type": "markdown",
      "id": "e9aeb0fc",
      "metadata": {
        "id": "e9aeb0fc"
      },
      "source": [
        "#### 1.3 Objetos de clase"
      ]
    },
    {
      "cell_type": "markdown",
      "id": "cc742b6b",
      "metadata": {
        "id": "cc742b6b"
      },
      "source": [
        "Los objetos de clase soportan dos tipos de operaciones: hacer referencia a atributos e instanciación.\n",
        "\n",
        "Para hacer referencia a atributos se usa la sintaxis estándar de todas las referencias a atributos en Python: objeto.nombre. Los nombres de atributo válidos son todos los nombres que estaban en el espacio de nombres de la clase cuando ésta se creó. Por lo tanto, si la definición de la clase es así:"
      ]
    },
    {
      "cell_type": "code",
      "execution_count": null,
      "id": "6c7853f2",
      "metadata": {
        "id": "6c7853f2"
      },
      "outputs": [],
      "source": [
        "class MiClase:\n",
        "    \"\"\"Un simple ejemplo de clase\"\"\"\n",
        "    i = 12345\n",
        "\n",
        "    def f(self):\n",
        "        return 'Hola mundo'"
      ]
    },
    {
      "cell_type": "markdown",
      "id": "9a89e05a",
      "metadata": {
        "id": "9a89e05a"
      },
      "source": [
        "Entonces MiClase.i y MiClase.f son referencias de atributos válidas, que retornan un entero y un objeto función respectivamente. Los atributos de clase también pueden ser asignados, es decir, se puede cambiar el valor de MiClase.i mediante asignación. \\__doc__ también es un atributo válido, que retorna la documentación asociada a la clase: \"A simple example class\"."
      ]
    },
    {
      "cell_type": "code",
      "execution_count": null,
      "id": "48dbaefa",
      "metadata": {
        "colab": {
          "base_uri": "https://localhost:8080/"
        },
        "id": "48dbaefa",
        "outputId": "d67c7b76-b3a3-4081-ae33-f66cf7511154"
      },
      "outputs": [
        {
          "output_type": "execute_result",
          "data": {
            "text/plain": [
              "12345"
            ]
          },
          "metadata": {},
          "execution_count": 3
        }
      ],
      "source": [
        "MiClase.i"
      ]
    },
    {
      "cell_type": "code",
      "execution_count": null,
      "id": "6bb174d0",
      "metadata": {
        "colab": {
          "base_uri": "https://localhost:8080/"
        },
        "id": "6bb174d0",
        "outputId": "bcfb970c-ae5d-49b6-91f2-b75c09c81c71"
      },
      "outputs": [
        {
          "output_type": "execute_result",
          "data": {
            "text/plain": [
              "<function __main__.MiClase.f(self)>"
            ]
          },
          "metadata": {},
          "execution_count": 4
        }
      ],
      "source": [
        "MiClase.f"
      ]
    },
    {
      "cell_type": "code",
      "execution_count": null,
      "id": "8e93dfa4",
      "metadata": {
        "colab": {
          "base_uri": "https://localhost:8080/",
          "height": 35
        },
        "id": "8e93dfa4",
        "outputId": "304602a8-dc97-48ca-b7f6-0357e13d7261"
      },
      "outputs": [
        {
          "output_type": "execute_result",
          "data": {
            "text/plain": [
              "'Un simple ejemplo de clase'"
            ],
            "application/vnd.google.colaboratory.intrinsic+json": {
              "type": "string"
            }
          },
          "metadata": {},
          "execution_count": 6
        }
      ],
      "source": [
        "MiClase.__doc__"
      ]
    },
    {
      "cell_type": "markdown",
      "id": "96add463",
      "metadata": {
        "id": "96add463"
      },
      "source": [
        "#### 1.4 Instanciación de clases"
      ]
    },
    {
      "cell_type": "markdown",
      "id": "06b1d752",
      "metadata": {
        "id": "06b1d752"
      },
      "source": [
        "La instanciación de clases usa la notación de funciones. Hacé de cuenta que el objeto de clase es una función sin parámetros que retorna una nueva instancia de la clase. Por ejemplo (para la clase de más arriba):"
      ]
    },
    {
      "cell_type": "code",
      "execution_count": null,
      "id": "3483319a",
      "metadata": {
        "colab": {
          "base_uri": "https://localhost:8080/"
        },
        "id": "3483319a",
        "outputId": "ebf00501-dcf5-420d-ff99-f3343a06d55e"
      },
      "outputs": [
        {
          "output_type": "stream",
          "name": "stdout",
          "text": [
            "<__main__.MiClase object at 0x7fa7caed69e0>\n"
          ]
        }
      ],
      "source": [
        "x = MiClase()\n",
        "x\n",
        "print(x)\n",
        "#crea una nueva instancia de la clase y asigna este objeto a la variable local x."
      ]
    },
    {
      "cell_type": "code",
      "source": [
        "MiClase()"
      ],
      "metadata": {
        "colab": {
          "base_uri": "https://localhost:8080/"
        },
        "id": "mQQcOHDInNZm",
        "outputId": "52b10a51-5155-489a-c77b-30dd9533cf3e"
      },
      "id": "mQQcOHDInNZm",
      "execution_count": null,
      "outputs": [
        {
          "output_type": "execute_result",
          "data": {
            "text/plain": [
              "<__main__.MiClase at 0x7fa7caed6800>"
            ]
          },
          "metadata": {},
          "execution_count": 8
        }
      ]
    },
    {
      "cell_type": "markdown",
      "id": "22656eef",
      "metadata": {
        "id": "22656eef"
      },
      "source": [
        "La operación de instanciación («llamar» a un objeto clase) crea un objeto vacío. Muchas clases necesitan crear objetos con instancias en un estado inicial particular.\n",
        "Por lo tanto una clase puede definir un método especial llamado \\__init__(), de esta forma:"
      ]
    },
    {
      "cell_type": "code",
      "execution_count": null,
      "id": "bb738992",
      "metadata": {
        "id": "bb738992"
      },
      "outputs": [],
      "source": [
        "class MiClase:\n",
        "    \"\"\"Un simple ejemplo de clase\"\"\"\n",
        "    def __init__(self):\n",
        "        self.data = []\n",
        "\n",
        "    i = 12345\n",
        "\n",
        "    def f(self):\n",
        "        return 'hello world'"
      ]
    },
    {
      "cell_type": "markdown",
      "id": "0c2de4ee",
      "metadata": {
        "id": "0c2de4ee"
      },
      "source": [
        "Cuando una clase define un método \\__init\\__(), la creación de instancias de clase invoca\n",
        "automáticamente \\__init\\__() para la instancia de clase recién creada.\n",
        "Entonces, en este ejemplo, se puede obtener una nueva instancia inicializada mediante:"
      ]
    },
    {
      "cell_type": "code",
      "execution_count": null,
      "id": "2514b90c",
      "metadata": {
        "colab": {
          "base_uri": "https://localhost:8080/"
        },
        "id": "2514b90c",
        "outputId": "502b5432-01a5-4fcf-f6fa-3a277796df16"
      },
      "outputs": [
        {
          "output_type": "execute_result",
          "data": {
            "text/plain": [
              "1"
            ]
          },
          "metadata": {},
          "execution_count": 15
        }
      ],
      "source": [
        "x = MiClase()\n",
        "x.data = 1\n",
        "x.data"
      ]
    },
    {
      "cell_type": "markdown",
      "id": "64ff4dcd",
      "metadata": {
        "id": "64ff4dcd"
      },
      "source": [
        "Por supuesto, el método \\__init\\__() puede tener argumentos para mayor flexibilidad.\n",
        "En ese caso, los argumentos que se pasen al operador de instanciación de la clase van a parar al método \\__init\\__().\n",
        "Por ejemplo,\n"
      ]
    },
    {
      "cell_type": "code",
      "execution_count": null,
      "id": "c3fb77ba",
      "metadata": {
        "colab": {
          "base_uri": "https://localhost:8080/"
        },
        "id": "c3fb77ba",
        "outputId": "a04dee46-672c-4727-9373-fe246481d962"
      },
      "outputs": [
        {
          "output_type": "execute_result",
          "data": {
            "text/plain": [
              "(3.0, -4.5)"
            ]
          },
          "metadata": {},
          "execution_count": 16
        }
      ],
      "source": [
        "class Complex:\n",
        "    def __init__(self, realpart, imagpart):\n",
        "        self.r = realpart\n",
        "        self.i = imagpart\n",
        "\n",
        "x= Complex(3.0, -4.5)\n",
        "\n",
        "x.r,x.i"
      ]
    },
    {
      "cell_type": "code",
      "source": [
        "y= Complex()\n"
      ],
      "metadata": {
        "colab": {
          "base_uri": "https://localhost:8080/",
          "height": 167
        },
        "id": "Hs-gjIm6oblP",
        "outputId": "4b4744fb-9d36-4968-d187-54f72331af57"
      },
      "id": "Hs-gjIm6oblP",
      "execution_count": null,
      "outputs": [
        {
          "output_type": "error",
          "ename": "TypeError",
          "evalue": "ignored",
          "traceback": [
            "\u001b[0;31m---------------------------------------------------------------------------\u001b[0m",
            "\u001b[0;31mTypeError\u001b[0m                                 Traceback (most recent call last)",
            "\u001b[0;32m<ipython-input-17-1b7150407e17>\u001b[0m in \u001b[0;36m<cell line: 1>\u001b[0;34m()\u001b[0m\n\u001b[0;32m----> 1\u001b[0;31m \u001b[0my\u001b[0m\u001b[0;34m=\u001b[0m \u001b[0mComplex\u001b[0m\u001b[0;34m(\u001b[0m\u001b[0;34m)\u001b[0m\u001b[0;34m\u001b[0m\u001b[0;34m\u001b[0m\u001b[0m\n\u001b[0m",
            "\u001b[0;31mTypeError\u001b[0m: Complex.__init__() missing 2 required positional arguments: 'realpart' and 'imagpart'"
          ]
        }
      ]
    },
    {
      "cell_type": "markdown",
      "id": "77b61baa",
      "metadata": {
        "id": "77b61baa"
      },
      "source": [
        "#### 1.5 Objetos instancia"
      ]
    },
    {
      "cell_type": "markdown",
      "id": "56d551c1",
      "metadata": {
        "id": "56d551c1"
      },
      "source": [
        "Ahora, ¿Qué podemos hacer con los objetos instancia? La única operación que es entendida por los objetos instancia es la referencia de atributos. __Hay dos tipos de nombres de atributos válidos, atributos de datos y métodos.__\n",
        "\n"
      ]
    },
    {
      "cell_type": "markdown",
      "id": "516b5463",
      "metadata": {
        "id": "516b5463"
      },
      "source": [
        "##### 1.5.1 Objetos instancia: atributos de datos"
      ]
    },
    {
      "cell_type": "markdown",
      "id": "78185123",
      "metadata": {
        "id": "78185123"
      },
      "source": [
        "Los atributos de datos no necesitan ser declarados; tal como las variables locales son creados la primera vez que se les asigna algo. Por ejemplo, si x es la instancia de MiClase creada más arriba, el siguiente pedazo de código va a imprimir el valor 16, sin dejar ningún rastro:"
      ]
    },
    {
      "cell_type": "code",
      "execution_count": null,
      "id": "bf9a13bb",
      "metadata": {
        "colab": {
          "base_uri": "https://localhost:8080/"
        },
        "id": "bf9a13bb",
        "outputId": "9608422f-b71d-4ba5-a707-6736ae372a8a"
      },
      "outputs": [
        {
          "output_type": "stream",
          "name": "stdout",
          "text": [
            "16\n"
          ]
        }
      ],
      "source": [
        "x.counter = 1\n",
        "while x.counter < 10:\n",
        "    x.counter = x.counter * 2\n",
        "print(x.counter)\n",
        "del x.counter"
      ]
    },
    {
      "cell_type": "code",
      "execution_count": null,
      "id": "24d51432",
      "metadata": {
        "id": "24d51432",
        "outputId": "7d7465ba-582c-4d2c-971c-218921b4b398"
      },
      "outputs": [
        {
          "data": {
            "text/plain": [
              "['__class__',\n",
              " '__delattr__',\n",
              " '__dict__',\n",
              " '__dir__',\n",
              " '__doc__',\n",
              " '__eq__',\n",
              " '__format__',\n",
              " '__ge__',\n",
              " '__getattribute__',\n",
              " '__getstate__',\n",
              " '__gt__',\n",
              " '__hash__',\n",
              " '__init__',\n",
              " '__init_subclass__',\n",
              " '__le__',\n",
              " '__lt__',\n",
              " '__module__',\n",
              " '__ne__',\n",
              " '__new__',\n",
              " '__reduce__',\n",
              " '__reduce_ex__',\n",
              " '__repr__',\n",
              " '__setattr__',\n",
              " '__sizeof__',\n",
              " '__str__',\n",
              " '__subclasshook__',\n",
              " '__weakref__',\n",
              " 'i',\n",
              " 'r']"
            ]
          },
          "execution_count": 7,
          "metadata": {},
          "output_type": "execute_result"
        }
      ],
      "source": [
        "dir(x)"
      ]
    },
    {
      "cell_type": "code",
      "execution_count": null,
      "id": "6886f010",
      "metadata": {
        "colab": {
          "base_uri": "https://localhost:8080/"
        },
        "id": "6886f010",
        "outputId": "8e2af9b7-a10f-4ac9-b6ff-2e85f9f903e5"
      },
      "outputs": [
        {
          "output_type": "stream",
          "name": "stdout",
          "text": [
            "16\n"
          ]
        }
      ],
      "source": [
        "x.counter = 1\n",
        "while x.counter < 10:\n",
        "    x.counter = x.counter * 2\n",
        "print(x.counter)\n"
      ]
    },
    {
      "cell_type": "code",
      "execution_count": null,
      "id": "0fcb60dd",
      "metadata": {
        "colab": {
          "base_uri": "https://localhost:8080/"
        },
        "id": "0fcb60dd",
        "outputId": "1e444356-c97e-4904-8dbf-c9041e83b7b5"
      },
      "outputs": [
        {
          "output_type": "execute_result",
          "data": {
            "text/plain": [
              "['__class__',\n",
              " '__delattr__',\n",
              " '__dict__',\n",
              " '__dir__',\n",
              " '__doc__',\n",
              " '__eq__',\n",
              " '__format__',\n",
              " '__ge__',\n",
              " '__getattribute__',\n",
              " '__gt__',\n",
              " '__hash__',\n",
              " '__init__',\n",
              " '__init_subclass__',\n",
              " '__le__',\n",
              " '__lt__',\n",
              " '__module__',\n",
              " '__ne__',\n",
              " '__new__',\n",
              " '__reduce__',\n",
              " '__reduce_ex__',\n",
              " '__repr__',\n",
              " '__setattr__',\n",
              " '__sizeof__',\n",
              " '__str__',\n",
              " '__subclasshook__',\n",
              " '__weakref__',\n",
              " 'counter',\n",
              " 'i',\n",
              " 'r']"
            ]
          },
          "metadata": {},
          "execution_count": 20
        }
      ],
      "source": [
        "dir(x)"
      ]
    },
    {
      "cell_type": "code",
      "source": [
        "dir(Complex(3.0, -4.5))"
      ],
      "metadata": {
        "colab": {
          "base_uri": "https://localhost:8080/"
        },
        "id": "g9ImDIySq0dw",
        "outputId": "f4c55165-96c1-4128-d53e-64042eb4a7c0"
      },
      "id": "g9ImDIySq0dw",
      "execution_count": null,
      "outputs": [
        {
          "output_type": "execute_result",
          "data": {
            "text/plain": [
              "['__class__',\n",
              " '__delattr__',\n",
              " '__dict__',\n",
              " '__dir__',\n",
              " '__doc__',\n",
              " '__eq__',\n",
              " '__format__',\n",
              " '__ge__',\n",
              " '__getattribute__',\n",
              " '__gt__',\n",
              " '__hash__',\n",
              " '__init__',\n",
              " '__init_subclass__',\n",
              " '__le__',\n",
              " '__lt__',\n",
              " '__module__',\n",
              " '__ne__',\n",
              " '__new__',\n",
              " '__reduce__',\n",
              " '__reduce_ex__',\n",
              " '__repr__',\n",
              " '__setattr__',\n",
              " '__sizeof__',\n",
              " '__str__',\n",
              " '__subclasshook__',\n",
              " '__weakref__',\n",
              " 'i',\n",
              " 'r']"
            ]
          },
          "metadata": {},
          "execution_count": 23
        }
      ]
    },
    {
      "cell_type": "markdown",
      "id": "425a818f",
      "metadata": {
        "id": "425a818f"
      },
      "source": [
        "##### 1.5.2 Objetos instancia: métodos"
      ]
    },
    {
      "cell_type": "markdown",
      "id": "7d5aeb4d",
      "metadata": {
        "id": "7d5aeb4d"
      },
      "source": [
        "El otro tipo de atributo de instancia es el método. Un método es una función que «pertenece a» un objeto.\n",
        "\n",
        "En Python, el término método no está limitado a instancias de clase: otros tipos de objetos pueden tener métodos también. Por ejemplo, los objetos lista tienen métodos llamados append, insert, remove, sort, y así sucesivamente. Pero, en la siguiente explicación, usaremos el término método para referirnos exclusivamente a métodos de objetos instancia de clase, a menos que se especifique explícitamente lo contrario.\n",
        "\n",
        "Los nombres válidos de métodos de un objeto instancia dependen de su clase. Por definición, todos los atributos de clase que son objetos funciones definen métodos correspondientes de sus instancias. Tomando el mismo ejemplo:\n",
        "\n",
        "\n",
        "x.f es una referencia a un método válido, dado que MiClase.f es una función, pero x.i no lo es, dado que MiClase.i no lo es. Pero x.f no es la misma cosa que MiClase.f;  x.f es un objeto método, no un objeto función."
      ]
    },
    {
      "cell_type": "code",
      "execution_count": null,
      "id": "636c11e3",
      "metadata": {
        "colab": {
          "base_uri": "https://localhost:8080/"
        },
        "id": "636c11e3",
        "outputId": "e03e40ae-4380-44e5-a133-d27acdb4a897"
      },
      "outputs": [
        {
          "output_type": "execute_result",
          "data": {
            "text/plain": [
              "<function __main__.MiClase.f(self)>"
            ]
          },
          "metadata": {},
          "execution_count": 24
        }
      ],
      "source": [
        "class MiClase:\n",
        "    \"\"\"Un simple ejemplo de clase\"\"\"\n",
        "    def __init__(self):\n",
        "        self.data = []\n",
        "\n",
        "    i = 12345\n",
        "\n",
        "    def f(self):\n",
        "        return 'hello world'\n",
        "\n",
        "\n",
        "MiClase.f"
      ]
    },
    {
      "cell_type": "code",
      "execution_count": null,
      "id": "413c35b2",
      "metadata": {
        "colab": {
          "base_uri": "https://localhost:8080/"
        },
        "id": "413c35b2",
        "outputId": "7fd693b3-362b-4ae6-98d1-ba507a5f26d1"
      },
      "outputs": [
        {
          "output_type": "execute_result",
          "data": {
            "text/plain": [
              "<bound method MiClase.f of <__main__.MiClase object at 0x7fa7991dc5b0>>"
            ]
          },
          "metadata": {},
          "execution_count": 25
        }
      ],
      "source": [
        "x = MiClase()\n",
        "x.f"
      ]
    },
    {
      "cell_type": "code",
      "execution_count": null,
      "id": "f33d1b15",
      "metadata": {
        "colab": {
          "base_uri": "https://localhost:8080/"
        },
        "id": "f33d1b15",
        "outputId": "c0ea0408-de00-4209-cf59-a8216d9074d4"
      },
      "outputs": [
        {
          "output_type": "execute_result",
          "data": {
            "text/plain": [
              "12345"
            ]
          },
          "metadata": {},
          "execution_count": 26
        }
      ],
      "source": [
        "MiClase().i"
      ]
    },
    {
      "cell_type": "code",
      "execution_count": null,
      "id": "625c9e6e",
      "metadata": {
        "colab": {
          "base_uri": "https://localhost:8080/"
        },
        "id": "625c9e6e",
        "outputId": "4c800eca-c82d-461b-857d-5b048090168a"
      },
      "outputs": [
        {
          "output_type": "execute_result",
          "data": {
            "text/plain": [
              "12345"
            ]
          },
          "metadata": {},
          "execution_count": 27
        }
      ],
      "source": [
        "x.i"
      ]
    },
    {
      "cell_type": "markdown",
      "id": "99d4a8b4",
      "metadata": {
        "id": "99d4a8b4"
      },
      "source": [
        "Generalmente, un método es llamado luego de ser vinculado:"
      ]
    },
    {
      "cell_type": "code",
      "execution_count": null,
      "id": "fa109526",
      "metadata": {
        "id": "fa109526",
        "outputId": "3a2b5fdd-342c-45f6-f80e-b5c2a147f1b1"
      },
      "outputs": [
        {
          "data": {
            "text/plain": [
              "'hello world'"
            ]
          },
          "execution_count": 20,
          "metadata": {},
          "output_type": "execute_result"
        }
      ],
      "source": [
        "x.f()"
      ]
    },
    {
      "cell_type": "markdown",
      "id": "f13cef35",
      "metadata": {
        "id": "f13cef35"
      },
      "source": [
        "En el ejemplo MiClase, esto retorna la cadena 'hello world'. Pero no es necesario llamar al método justo en ese momento: x.f es un objeto método, y puede ser guardado y llamado más tarde. Por ejemplo:"
      ]
    },
    {
      "cell_type": "code",
      "execution_count": null,
      "id": "7fdfaa81",
      "metadata": {
        "colab": {
          "base_uri": "https://localhost:8080/"
        },
        "id": "7fdfaa81",
        "outputId": "cd3d8a8d-2eb3-49c2-dc81-0571bc2c62cc"
      },
      "outputs": [
        {
          "output_type": "execute_result",
          "data": {
            "text/plain": [
              "<bound method MiClase.f of <__main__.MiClase object at 0x7fa7991dc5b0>>"
            ]
          },
          "metadata": {},
          "execution_count": 28
        }
      ],
      "source": [
        "xf = x.f\n",
        "xf"
      ]
    },
    {
      "cell_type": "code",
      "execution_count": null,
      "id": "da2ea81e",
      "metadata": {
        "colab": {
          "base_uri": "https://localhost:8080/"
        },
        "id": "da2ea81e",
        "outputId": "5ca038ae-0bf3-42bd-f35f-9d1b9eb90fdf"
      },
      "outputs": [
        {
          "output_type": "stream",
          "name": "stdout",
          "text": [
            "hello world\n"
          ]
        }
      ],
      "source": [
        "xf = x.f\n",
        "print(xf())"
      ]
    },
    {
      "cell_type": "markdown",
      "id": "65525a1a",
      "metadata": {
        "id": "65525a1a"
      },
      "source": [
        "#### 1.6 Variables de clase y de instancia"
      ]
    },
    {
      "cell_type": "markdown",
      "id": "869b246a",
      "metadata": {
        "id": "869b246a"
      },
      "source": [
        "En general, las variables de instancia son para datos únicos de cada instancia y las variables de clase son para atributos y métodos compartidos por todas las instancias de la clase:"
      ]
    },
    {
      "cell_type": "code",
      "execution_count": null,
      "id": "ffed36c2",
      "metadata": {
        "id": "ffed36c2"
      },
      "outputs": [],
      "source": [
        "class Perro:\n",
        "\n",
        "    tipo = 'canino'         # variable de clase compartida por todas las instancias\n",
        "\n",
        "    def __init__(self, name):\n",
        "        self.name = name    # variable de instancia, única para cada instancia (el valor)\n",
        "\n"
      ]
    },
    {
      "cell_type": "code",
      "execution_count": null,
      "id": "08d21c51",
      "metadata": {
        "colab": {
          "base_uri": "https://localhost:8080/",
          "height": 236
        },
        "id": "08d21c51",
        "outputId": "8b51d495-3740-4640-ec13-eef80c7fbb92"
      },
      "outputs": [
        {
          "output_type": "error",
          "ename": "TypeError",
          "evalue": "ignored",
          "traceback": [
            "\u001b[0;31m---------------------------------------------------------------------------\u001b[0m",
            "\u001b[0;31mTypeError\u001b[0m                                 Traceback (most recent call last)",
            "\u001b[0;32m<ipython-input-31-5f18910f1ee5>\u001b[0m in \u001b[0;36m<cell line: 1>\u001b[0;34m()\u001b[0m\n\u001b[0;32m----> 1\u001b[0;31m \u001b[0md\u001b[0m \u001b[0;34m=\u001b[0m \u001b[0mPerro\u001b[0m\u001b[0;34m(\u001b[0m\u001b[0;34m)\u001b[0m\u001b[0;34m\u001b[0m\u001b[0;34m\u001b[0m\u001b[0m\n\u001b[0m\u001b[1;32m      2\u001b[0m \u001b[0;34m\u001b[0m\u001b[0m\n\u001b[1;32m      3\u001b[0m \u001b[0;34m\u001b[0m\u001b[0m\n\u001b[1;32m      4\u001b[0m \u001b[0;31m# Nos da un error debido a que no proporcionamos el valor a la variable name requerida cuando la función init inicializa\u001b[0m\u001b[0;34m\u001b[0m\u001b[0;34m\u001b[0m\u001b[0m\n\u001b[1;32m      5\u001b[0m \u001b[0;31m# el objeto de clase\u001b[0m\u001b[0;34m\u001b[0m\u001b[0;34m\u001b[0m\u001b[0m\n",
            "\u001b[0;31mTypeError\u001b[0m: Perro.__init__() missing 1 required positional argument: 'name'"
          ]
        }
      ],
      "source": [
        "d = Perro()\n",
        "\n",
        "\n",
        "# Nos da un error debido a que no proporcionamos el valor a la variable name requerida cuando la función init inicializa\n",
        "# el objeto de clase\n",
        "# self.name = name // requiere un valor para el parámetro name"
      ]
    },
    {
      "cell_type": "code",
      "execution_count": null,
      "id": "c47c85dd",
      "metadata": {
        "id": "c47c85dd"
      },
      "outputs": [],
      "source": [
        "# Instanciamos en dos variables distintas con distintos valores para la variable name (variable de instancia)\n",
        "d = Perro('Fido')\n",
        "e = Perro('Buddy')"
      ]
    },
    {
      "cell_type": "code",
      "execution_count": null,
      "id": "2f48b432",
      "metadata": {
        "colab": {
          "base_uri": "https://localhost:8080/",
          "height": 35
        },
        "id": "2f48b432",
        "outputId": "890a377e-27d7-421f-dfc6-e69c8718d904"
      },
      "outputs": [
        {
          "output_type": "execute_result",
          "data": {
            "text/plain": [
              "'canino'"
            ],
            "application/vnd.google.colaboratory.intrinsic+json": {
              "type": "string"
            }
          },
          "metadata": {},
          "execution_count": 33
        }
      ],
      "source": [
        "# Ahora primero revisemos los valores de la variable tipo, que es una variable de clase\n",
        "d.tipo"
      ]
    },
    {
      "cell_type": "code",
      "execution_count": null,
      "id": "4092d01b",
      "metadata": {
        "colab": {
          "base_uri": "https://localhost:8080/",
          "height": 35
        },
        "id": "4092d01b",
        "outputId": "6c34c807-056b-435b-99ef-70a84314ed6a"
      },
      "outputs": [
        {
          "output_type": "execute_result",
          "data": {
            "text/plain": [
              "'canino'"
            ],
            "application/vnd.google.colaboratory.intrinsic+json": {
              "type": "string"
            }
          },
          "metadata": {},
          "execution_count": 34
        }
      ],
      "source": [
        "e.tipo"
      ]
    },
    {
      "cell_type": "markdown",
      "id": "af985df9",
      "metadata": {
        "id": "af985df9"
      },
      "source": [
        "Como se puede ver es una variable cuyo valor es compartido, esto se da principalmente por la manera en la que se declara la misma. Podemos cambiar el valor de la misma?"
      ]
    },
    {
      "cell_type": "code",
      "execution_count": null,
      "id": "34be4cbc",
      "metadata": {
        "id": "34be4cbc"
      },
      "outputs": [],
      "source": [
        "# Modificamos el valor de la variable de clase \"tipo\" de la clase Perro\n",
        "Perro.tipo = \"gato\""
      ]
    },
    {
      "cell_type": "code",
      "execution_count": null,
      "id": "d8fd8ba9",
      "metadata": {
        "colab": {
          "base_uri": "https://localhost:8080/",
          "height": 35
        },
        "id": "d8fd8ba9",
        "outputId": "4e52dee8-4e54-4877-dd75-610eb695a220"
      },
      "outputs": [
        {
          "output_type": "execute_result",
          "data": {
            "text/plain": [
              "'gato'"
            ],
            "application/vnd.google.colaboratory.intrinsic+json": {
              "type": "string"
            }
          },
          "metadata": {},
          "execution_count": 36
        }
      ],
      "source": [
        "Perro.tipo"
      ]
    },
    {
      "cell_type": "code",
      "execution_count": null,
      "id": "d4d4b053",
      "metadata": {
        "colab": {
          "base_uri": "https://localhost:8080/",
          "height": 35
        },
        "id": "d4d4b053",
        "outputId": "4367e91c-fa76-4607-85b2-d592553b156a"
      },
      "outputs": [
        {
          "output_type": "execute_result",
          "data": {
            "text/plain": [
              "'gato'"
            ],
            "application/vnd.google.colaboratory.intrinsic+json": {
              "type": "string"
            }
          },
          "metadata": {},
          "execution_count": 37
        }
      ],
      "source": [
        "d.tipo"
      ]
    },
    {
      "cell_type": "markdown",
      "id": "0f02df48",
      "metadata": {
        "id": "0f02df48"
      },
      "source": [
        "Como se puede notar, se cambió el valor en la clase y con esto, también se actualizó el valor en la instancia almacenada en d"
      ]
    },
    {
      "cell_type": "markdown",
      "id": "1df52c37",
      "metadata": {
        "id": "1df52c37"
      },
      "source": [
        "Ahora veamos, que pasa con las variables de instancia"
      ]
    },
    {
      "cell_type": "code",
      "execution_count": null,
      "id": "05aa1e20",
      "metadata": {
        "colab": {
          "base_uri": "https://localhost:8080/",
          "height": 35
        },
        "id": "05aa1e20",
        "outputId": "d0b0838a-edbd-4376-deb1-2f9927c7d5fc"
      },
      "outputs": [
        {
          "output_type": "execute_result",
          "data": {
            "text/plain": [
              "'Fido'"
            ],
            "application/vnd.google.colaboratory.intrinsic+json": {
              "type": "string"
            }
          },
          "metadata": {},
          "execution_count": 39
        }
      ],
      "source": [
        "d.name"
      ]
    },
    {
      "cell_type": "code",
      "execution_count": null,
      "id": "8b7183c8",
      "metadata": {
        "colab": {
          "base_uri": "https://localhost:8080/",
          "height": 35
        },
        "id": "8b7183c8",
        "outputId": "af680e04-2ee9-40e5-b6c1-cc8f2beef77b"
      },
      "outputs": [
        {
          "output_type": "execute_result",
          "data": {
            "text/plain": [
              "'Buddy'"
            ],
            "application/vnd.google.colaboratory.intrinsic+json": {
              "type": "string"
            }
          },
          "metadata": {},
          "execution_count": 40
        }
      ],
      "source": [
        "e.name"
      ]
    },
    {
      "cell_type": "markdown",
      "id": "4935c08c",
      "metadata": {
        "id": "4935c08c"
      },
      "source": [
        "Como se puede ver, los valores son únicos para cada instancia, obviamente podrían ser iguales si así lo asignacemos al instanciar, pero no se comparten para todas las instancias"
      ]
    },
    {
      "cell_type": "markdown",
      "id": "0114edf5",
      "metadata": {
        "id": "0114edf5"
      },
      "source": [
        "Como se mencionó sobre el tema de nombres y espacios de nombres, los datos compartidos pueden tener efectos inesperados que involucren objetos mutables como ser listas y diccionarios. Por ejemplo, la lista trucos en el siguiente código no debería ser usada como variable de clase porque una sola lista sería compartida por todos las instancias de Perro:"
      ]
    },
    {
      "cell_type": "code",
      "execution_count": null,
      "id": "d8bafaf6",
      "metadata": {
        "id": "d8bafaf6"
      },
      "outputs": [],
      "source": [
        "# Uso erróneo de variable de clase\n",
        "class Perro:\n",
        "\n",
        "    tipo = 'canino'         # variable de clase compartida por todas las instancias\n",
        "    trucos = []\n",
        "\n",
        "    def __init__(self, name):\n",
        "        self.name = name    # variable de instancial, única para cada instancia (el valor)\n",
        "\n",
        "    def add_trucos (self, truco): # Con esta función se añaden trucos\n",
        "        self.trucos.append(truco)\n",
        "        # El truco se añade a la lista de trucos, pero se añade a la variable de clase, por lo que no sabremos\n",
        "        # de qué perro es cada truco"
      ]
    },
    {
      "cell_type": "code",
      "execution_count": null,
      "id": "e649ee32",
      "metadata": {
        "colab": {
          "base_uri": "https://localhost:8080/"
        },
        "id": "e649ee32",
        "outputId": "258d55e8-8cc7-4a67-d80e-32c7a6b3d134"
      },
      "outputs": [
        {
          "output_type": "execute_result",
          "data": {
            "text/plain": [
              "['correr', 'correr', 'correr']"
            ]
          },
          "metadata": {},
          "execution_count": 44
        }
      ],
      "source": [
        "d = Perro('Fido')\n",
        "d.add_trucos(\"correr\")\n",
        "d.trucos"
      ]
    },
    {
      "cell_type": "code",
      "source": [],
      "metadata": {
        "id": "45IETSpGt46x"
      },
      "id": "45IETSpGt46x",
      "execution_count": null,
      "outputs": []
    },
    {
      "cell_type": "code",
      "execution_count": null,
      "id": "e9ec1fb5",
      "metadata": {
        "id": "e9ec1fb5"
      },
      "outputs": [],
      "source": [
        "# El diseño correcto sería\n",
        "\n",
        "class Perro_correcto:\n",
        "\n",
        "    tipo = 'canino'         # variable de clase compartida por todas las instancias\n",
        "\n",
        "    def __init__(self, name):\n",
        "        self.name = name    # variable de instancia, única para cada instancia (el valor)\n",
        "        self.trucos = []    # variable de instancia, una lista vacía\n",
        "\n",
        "    def add_trucos (self, truco): # Con esta función se añaden trucos\n",
        "        self.trucos.append(truco) # Para cada instancia\n"
      ]
    },
    {
      "cell_type": "code",
      "execution_count": null,
      "id": "0aed3d41",
      "metadata": {
        "colab": {
          "base_uri": "https://localhost:8080/"
        },
        "id": "0aed3d41",
        "outputId": "4d6fd7fb-c8a6-43ee-9c7f-2cd597e71cc6"
      },
      "outputs": [
        {
          "output_type": "execute_result",
          "data": {
            "text/plain": [
              "['correr']"
            ]
          },
          "metadata": {},
          "execution_count": 46
        }
      ],
      "source": [
        "d = Perro_correcto('Fido')\n",
        "d.add_trucos(\"correr\")\n",
        "d.trucos"
      ]
    },
    {
      "cell_type": "code",
      "execution_count": null,
      "id": "a081d76a",
      "metadata": {
        "colab": {
          "base_uri": "https://localhost:8080/"
        },
        "id": "a081d76a",
        "outputId": "17a9eb0d-a2cd-48d7-fc83-91226f433f71"
      },
      "outputs": [
        {
          "output_type": "execute_result",
          "data": {
            "text/plain": [
              "['girar']"
            ]
          },
          "metadata": {},
          "execution_count": 47
        }
      ],
      "source": [
        "e = Perro_correcto('Pupi')\n",
        "e.add_trucos(\"girar\")\n",
        "e.trucos"
      ]
    },
    {
      "cell_type": "code",
      "execution_count": null,
      "id": "d811fd3e",
      "metadata": {
        "colab": {
          "base_uri": "https://localhost:8080/"
        },
        "id": "d811fd3e",
        "outputId": "ada1cda3-3797-4de3-bef5-a880f6094a97"
      },
      "outputs": [
        {
          "output_type": "execute_result",
          "data": {
            "text/plain": [
              "['girar', 'dar la pata']"
            ]
          },
          "metadata": {},
          "execution_count": 48
        }
      ],
      "source": [
        "e.add_trucos(\"dar la pata\")\n",
        "e.trucos"
      ]
    },
    {
      "cell_type": "markdown",
      "id": "84601129",
      "metadata": {
        "id": "84601129"
      },
      "source": [
        "#### 2. Definición de una clase, sus propiedades o atributos y métodos"
      ]
    },
    {
      "cell_type": "code",
      "execution_count": null,
      "id": "7474f07e",
      "metadata": {
        "id": "7474f07e"
      },
      "outputs": [],
      "source": [
        "class Bici:\n",
        "    def __init__(self, tipo_sillin, num_radios, diam_rueda):\n",
        "        self.tipo_sillin = tipo_sillin\n",
        "        self.num_radios = num_radios\n",
        "        self.diam_rueda = diam_rueda\n",
        "        self.frenada = True\n",
        "\n",
        "    def pedalear(self):\n",
        "        self.frenada = False\n",
        "        print('La bici se está moviendo gracias a vos')"
      ]
    },
    {
      "cell_type": "markdown",
      "id": "9f74c588",
      "metadata": {
        "id": "9f74c588"
      },
      "source": [
        "##### 2.1 Inicializamos la clase, asignandola a una variable"
      ]
    },
    {
      "cell_type": "code",
      "execution_count": null,
      "id": "a4695a18",
      "metadata": {
        "id": "a4695a18"
      },
      "outputs": [],
      "source": [
        "mi_bici = Bici(\"grande\",28,560)"
      ]
    },
    {
      "cell_type": "markdown",
      "id": "c768cae5",
      "metadata": {
        "id": "c768cae5"
      },
      "source": [
        "Imprimimos la variable mi_bici"
      ]
    },
    {
      "cell_type": "code",
      "execution_count": null,
      "id": "7910acb0",
      "metadata": {
        "colab": {
          "base_uri": "https://localhost:8080/"
        },
        "id": "7910acb0",
        "outputId": "da2d9422-eaa5-4da5-c175-685f05373d78"
      },
      "outputs": [
        {
          "output_type": "stream",
          "name": "stdout",
          "text": [
            "<__main__.Bici object at 0x7fa7991dc5e0>\n"
          ]
        }
      ],
      "source": [
        "print(mi_bici)"
      ]
    },
    {
      "cell_type": "markdown",
      "id": "8b17b7c8",
      "metadata": {
        "id": "8b17b7c8"
      },
      "source": [
        "Nos da la dirección de la instancia"
      ]
    },
    {
      "cell_type": "code",
      "execution_count": null,
      "id": "eaa4c4c4",
      "metadata": {
        "colab": {
          "base_uri": "https://localhost:8080/"
        },
        "id": "eaa4c4c4",
        "outputId": "64eb5bd2-fd94-44ef-9f3f-7fedd5775fd7"
      },
      "outputs": [
        {
          "output_type": "execute_result",
          "data": {
            "text/plain": [
              "<__main__.Bici at 0x7fa7991dc5e0>"
            ]
          },
          "metadata": {},
          "execution_count": 53
        }
      ],
      "source": [
        "mi_bici"
      ]
    },
    {
      "cell_type": "markdown",
      "id": "4df21e12",
      "metadata": {
        "id": "4df21e12"
      },
      "source": [
        "Imprimimos el tipo del objeto almacenado en la variable mi_bici"
      ]
    },
    {
      "cell_type": "code",
      "execution_count": null,
      "id": "609227cc",
      "metadata": {
        "colab": {
          "base_uri": "https://localhost:8080/"
        },
        "id": "609227cc",
        "outputId": "dd6321f5-424b-44da-d271-2e74b0c2e689"
      },
      "outputs": [
        {
          "output_type": "stream",
          "name": "stdout",
          "text": [
            "<class '__main__.Bici'>\n"
          ]
        }
      ],
      "source": [
        "print(type(mi_bici))"
      ]
    },
    {
      "cell_type": "markdown",
      "id": "a89858d8",
      "metadata": {
        "id": "a89858d8"
      },
      "source": [
        "Ahora vamos a imprimir una atributo del objeto mi_bici, podría ser el tipo de sillín"
      ]
    },
    {
      "cell_type": "code",
      "execution_count": null,
      "id": "7aedc1da",
      "metadata": {
        "colab": {
          "base_uri": "https://localhost:8080/"
        },
        "id": "7aedc1da",
        "outputId": "8993481a-f988-4dc3-a466-959432a44c7b"
      },
      "outputs": [
        {
          "output_type": "stream",
          "name": "stdout",
          "text": [
            "grande\n"
          ]
        }
      ],
      "source": [
        "print(mi_bici.tipo_sillin)"
      ]
    },
    {
      "cell_type": "code",
      "execution_count": null,
      "id": "a2c2e0f2",
      "metadata": {
        "colab": {
          "base_uri": "https://localhost:8080/"
        },
        "id": "a2c2e0f2",
        "outputId": "7db22f77-a983-4a4d-c28d-e2ab387c00bf"
      },
      "outputs": [
        {
          "output_type": "stream",
          "name": "stdout",
          "text": [
            "Mi bici tiene un sillín grande\n"
          ]
        }
      ],
      "source": [
        "print(\"Mi bici tiene un sillín \" + mi_bici.tipo_sillin)"
      ]
    },
    {
      "cell_type": "markdown",
      "id": "e522bab6",
      "metadata": {
        "id": "e522bab6"
      },
      "source": [
        "#### 2.2  Utilizando una función de una instancia de clase"
      ]
    },
    {
      "cell_type": "markdown",
      "id": "9ece6c5f",
      "metadata": {
        "id": "9ece6c5f"
      },
      "source": [
        "Vamos a llamar o callear a la función \"pedalear\" definida en nuestra clase Bici, la cual ha sido instanciada en la variable \"mi_bici\""
      ]
    },
    {
      "cell_type": "code",
      "execution_count": null,
      "id": "03b59ccb",
      "metadata": {
        "colab": {
          "base_uri": "https://localhost:8080/"
        },
        "id": "03b59ccb",
        "outputId": "605c80dd-f942-4851-9d7d-2921b75d5900"
      },
      "outputs": [
        {
          "output_type": "execute_result",
          "data": {
            "text/plain": [
              "<bound method Bici.pedalear of <__main__.Bici object at 0x7fa7991dc5e0>>"
            ]
          },
          "metadata": {},
          "execution_count": 57
        }
      ],
      "source": [
        "mi_bici.pedalear"
      ]
    },
    {
      "cell_type": "markdown",
      "id": "3bc474ef",
      "metadata": {
        "id": "3bc474ef"
      },
      "source": [
        "En la línea de arriba solo imprimimos el método del objeto mi_bici"
      ]
    },
    {
      "cell_type": "code",
      "execution_count": null,
      "id": "1ff3a9de",
      "metadata": {
        "colab": {
          "base_uri": "https://localhost:8080/"
        },
        "id": "1ff3a9de",
        "outputId": "734ddc5c-df4c-4c5b-816f-8fc06c936446"
      },
      "outputs": [
        {
          "output_type": "stream",
          "name": "stdout",
          "text": [
            "La bici se está moviendo gracias a vos\n"
          ]
        }
      ],
      "source": [
        "# Aquí si llamamos a la función mediante el uso de paréntesis\n",
        "mi_bici.pedalear()"
      ]
    },
    {
      "cell_type": "markdown",
      "id": "3a68161e",
      "metadata": {
        "id": "3a68161e"
      },
      "source": [
        "Como esa función también cambia el valor del atributo \"frenada\", podemos verificarlo llamandolo de la siguiente manera"
      ]
    },
    {
      "cell_type": "code",
      "execution_count": null,
      "id": "744be964",
      "metadata": {
        "colab": {
          "base_uri": "https://localhost:8080/"
        },
        "id": "744be964",
        "outputId": "d12e3e93-0c82-4892-ce85-f0d5e8700207"
      },
      "outputs": [
        {
          "output_type": "execute_result",
          "data": {
            "text/plain": [
              "False"
            ]
          },
          "metadata": {},
          "execution_count": 59
        }
      ],
      "source": [
        "mi_bici.frenada\n",
        "# Como se puede ver devuelve el valor false"
      ]
    },
    {
      "cell_type": "markdown",
      "id": "a06f9e61",
      "metadata": {
        "id": "a06f9e61"
      },
      "source": [
        "Así mismo podemos llamar y combiar al resto de los atributos con la función print()"
      ]
    },
    {
      "cell_type": "code",
      "execution_count": null,
      "id": "446b8b9d",
      "metadata": {
        "colab": {
          "base_uri": "https://localhost:8080/",
          "height": 184
        },
        "id": "446b8b9d",
        "outputId": "0b37816e-83d5-4327-dddb-698a3b2099e3"
      },
      "outputs": [
        {
          "output_type": "error",
          "ename": "TypeError",
          "evalue": "ignored",
          "traceback": [
            "\u001b[0;31m---------------------------------------------------------------------------\u001b[0m",
            "\u001b[0;31mTypeError\u001b[0m                                 Traceback (most recent call last)",
            "\u001b[0;32m<ipython-input-60-afc5ee41739a>\u001b[0m in \u001b[0;36m<cell line: 1>\u001b[0;34m()\u001b[0m\n\u001b[0;32m----> 1\u001b[0;31m \u001b[0mprint\u001b[0m\u001b[0;34m(\u001b[0m\u001b[0;34m\"Las carasterísticas de mi_bici, son las siguientes: \\n\"\u001b[0m \u001b[0;34m+\u001b[0m \u001b[0;34m\"Sillín: \"\u001b[0m \u001b[0;34m+\u001b[0m \u001b[0mmi_bici\u001b[0m\u001b[0;34m.\u001b[0m\u001b[0mtipo_sillin\u001b[0m \u001b[0;34m+\u001b[0m\u001b[0;34m\"\\n\"\u001b[0m \u001b[0;34m+\u001b[0m \u001b[0;34m\"Nro de radios: \"\u001b[0m \u001b[0;34m+\u001b[0m \u001b[0mmi_bici\u001b[0m\u001b[0;34m.\u001b[0m\u001b[0mnum_radios\u001b[0m \u001b[0;34m+\u001b[0m\u001b[0;34m\"\\n\"\u001b[0m \u001b[0;34m+\u001b[0m \u001b[0;34m\"Diámetro de rueda: \"\u001b[0m \u001b[0;34m+\u001b[0m \u001b[0mmi_bici\u001b[0m\u001b[0;34m.\u001b[0m\u001b[0mdiam_rueda\u001b[0m \u001b[0;34m+\u001b[0m\u001b[0;34m\"\\n\"\u001b[0m \u001b[0;34m+\u001b[0m \u001b[0;34m\"La bici se encuentra parada?\"\u001b[0m \u001b[0;34m+\u001b[0m \u001b[0mmi_bici\u001b[0m\u001b[0;34m.\u001b[0m\u001b[0mfrenada\u001b[0m\u001b[0;34m)\u001b[0m\u001b[0;34m\u001b[0m\u001b[0;34m\u001b[0m\u001b[0m\n\u001b[0m",
            "\u001b[0;31mTypeError\u001b[0m: can only concatenate str (not \"int\") to str"
          ]
        }
      ],
      "source": [
        "print(\"Las carasterísticas de mi_bici, son las siguientes: \\n\" + \"Sillín: \" + mi_bici.tipo_sillin +\"\\n\" + \"Nro de radios: \" + mi_bici.num_radios +\"\\n\" + \"Diámetro de rueda: \" + mi_bici.diam_rueda +\"\\n\" + \"La bici se encuentra parada?\" + mi_bici.frenada)"
      ]
    },
    {
      "cell_type": "markdown",
      "id": "73eba0fe",
      "metadata": {
        "id": "73eba0fe"
      },
      "source": [
        "Nos da un error por que no puede concatenar cadenas con enteros o booleanos, por lo que convertimos los enteros a cadena"
      ]
    },
    {
      "cell_type": "code",
      "execution_count": null,
      "id": "b9b99ce0",
      "metadata": {
        "colab": {
          "base_uri": "https://localhost:8080/"
        },
        "id": "b9b99ce0",
        "outputId": "5435264d-fb69-4eeb-b976-c1944860af45"
      },
      "outputs": [
        {
          "output_type": "stream",
          "name": "stdout",
          "text": [
            "Las carasterísticas de mi_bici, son las siguientes: \n",
            "Sillín: grande\n",
            "Nro de radios: 28\n",
            "Diámetro de rueda: 560\n",
            "La bici se encuentra parada?False\n"
          ]
        }
      ],
      "source": [
        "print(\"Las carasterísticas de mi_bici, son las siguientes: \\n\" + \"Sillín: \" + mi_bici.tipo_sillin +\"\\n\" + \"Nro de radios: \" + str(mi_bici.num_radios) +\"\\n\" + \"Diámetro de rueda: \" + str(mi_bici.diam_rueda)  +\"\\n\" + \"La bici se encuentra parada?\" + str(mi_bici.frenada))"
      ]
    },
    {
      "cell_type": "markdown",
      "id": "b2b64cfa",
      "metadata": {
        "id": "b2b64cfa"
      },
      "source": [
        "#### Función para manejar datos de clase"
      ]
    },
    {
      "cell_type": "markdown",
      "id": "90045803",
      "metadata": {
        "id": "90045803"
      },
      "source": [
        "Esa manera de manejar los datos es bastante tediosa, por lo que creamos una función que pueda realizar lo anteior de manera más ágil"
      ]
    },
    {
      "cell_type": "code",
      "execution_count": null,
      "id": "1dffce8f",
      "metadata": {
        "id": "1dffce8f"
      },
      "outputs": [],
      "source": [
        "def func_imp_datos_de_bici(sillin, nro_radios, d_rueda, estado):\n",
        "    print(\"Las características de mi_bici son las siguientes:\")\n",
        "    print(\"Sillín: \" + sillin)\n",
        "    print(\"Nro de radios: \" + str(nro_radios))\n",
        "    print(\"Diámetro de rueda: \" + str(d_rueda))\n",
        "    print(\"La bici se encuentra parada? \" + str(estado))\n"
      ]
    },
    {
      "cell_type": "markdown",
      "id": "5ef246b2",
      "metadata": {
        "id": "5ef246b2"
      },
      "source": [
        "Ahora utilizamos la funcion"
      ]
    },
    {
      "cell_type": "code",
      "execution_count": null,
      "id": "356dc46d",
      "metadata": {
        "colab": {
          "base_uri": "https://localhost:8080/"
        },
        "id": "356dc46d",
        "outputId": "6e23794d-f0b9-4a50-f21d-43ed3211029f"
      },
      "outputs": [
        {
          "output_type": "stream",
          "name": "stdout",
          "text": [
            "Las características de mi_bici son las siguientes:\n",
            "Sillín: grande\n",
            "Nro de radios: 28\n",
            "Diámetro de rueda: 560\n",
            "La bici se encuentra parada? False\n"
          ]
        }
      ],
      "source": [
        "func_imp_datos_de_bici(mi_bici.tipo_sillin, mi_bici.num_radios, mi_bici.diam_rueda,mi_bici.frenada )"
      ]
    },
    {
      "cell_type": "markdown",
      "id": "368d4d80",
      "metadata": {
        "id": "368d4d80"
      },
      "source": [
        "Ahora agregaremos esta función como método de la clase"
      ]
    },
    {
      "cell_type": "code",
      "execution_count": null,
      "id": "91d67e7a",
      "metadata": {
        "id": "91d67e7a"
      },
      "outputs": [],
      "source": [
        "setattr(Bici, 'imprimir_datos', func_imp_datos_de_bici)"
      ]
    },
    {
      "cell_type": "markdown",
      "id": "95506786",
      "metadata": {
        "id": "95506786"
      },
      "source": [
        "Visualizamos los atributos y métodos de la clase"
      ]
    },
    {
      "cell_type": "code",
      "execution_count": null,
      "id": "cfaf7e61",
      "metadata": {
        "colab": {
          "base_uri": "https://localhost:8080/"
        },
        "id": "cfaf7e61",
        "outputId": "56706d3f-447f-4a53-a634-8d31cbd39479"
      },
      "outputs": [
        {
          "output_type": "execute_result",
          "data": {
            "text/plain": [
              "['__class__',\n",
              " '__delattr__',\n",
              " '__dict__',\n",
              " '__dir__',\n",
              " '__doc__',\n",
              " '__eq__',\n",
              " '__format__',\n",
              " '__ge__',\n",
              " '__getattribute__',\n",
              " '__gt__',\n",
              " '__hash__',\n",
              " '__init__',\n",
              " '__init_subclass__',\n",
              " '__le__',\n",
              " '__lt__',\n",
              " '__module__',\n",
              " '__ne__',\n",
              " '__new__',\n",
              " '__reduce__',\n",
              " '__reduce_ex__',\n",
              " '__repr__',\n",
              " '__setattr__',\n",
              " '__sizeof__',\n",
              " '__str__',\n",
              " '__subclasshook__',\n",
              " '__weakref__',\n",
              " 'imprimir_datos',\n",
              " 'pedalear']"
            ]
          },
          "metadata": {},
          "execution_count": 65
        }
      ],
      "source": [
        "dir(Bici)"
      ]
    },
    {
      "cell_type": "markdown",
      "id": "21a388c9",
      "metadata": {
        "id": "21a388c9"
      },
      "source": [
        "Ahora solo los atributos"
      ]
    },
    {
      "cell_type": "code",
      "execution_count": null,
      "id": "68a5819e",
      "metadata": {
        "colab": {
          "base_uri": "https://localhost:8080/"
        },
        "id": "68a5819e",
        "outputId": "26e257c8-1982-4cbc-e204-2a98010bb6b8"
      },
      "outputs": [
        {
          "output_type": "execute_result",
          "data": {
            "text/plain": [
              "{'tipo_sillin': 'grande',\n",
              " 'num_radios': 28,\n",
              " 'diam_rueda': 560,\n",
              " 'frenada': False}"
            ]
          },
          "metadata": {},
          "execution_count": 66
        }
      ],
      "source": [
        "mi_bici.__dict__"
      ]
    },
    {
      "cell_type": "markdown",
      "id": "3bea43bb",
      "metadata": {
        "id": "3bea43bb"
      },
      "source": [
        "Ahora intentemos usar el método \"imprimir datos\""
      ]
    },
    {
      "cell_type": "code",
      "execution_count": null,
      "id": "27252a12",
      "metadata": {
        "colab": {
          "base_uri": "https://localhost:8080/",
          "height": 167
        },
        "id": "27252a12",
        "outputId": "22924425-37c2-4218-924b-9eeab66600b9"
      },
      "outputs": [
        {
          "output_type": "error",
          "ename": "TypeError",
          "evalue": "ignored",
          "traceback": [
            "\u001b[0;31m---------------------------------------------------------------------------\u001b[0m",
            "\u001b[0;31mTypeError\u001b[0m                                 Traceback (most recent call last)",
            "\u001b[0;32m<ipython-input-67-0ca2f07fd319>\u001b[0m in \u001b[0;36m<cell line: 1>\u001b[0;34m()\u001b[0m\n\u001b[0;32m----> 1\u001b[0;31m \u001b[0mmi_bici\u001b[0m\u001b[0;34m.\u001b[0m\u001b[0mimprimir_datos\u001b[0m\u001b[0;34m(\u001b[0m\u001b[0;34m)\u001b[0m\u001b[0;34m\u001b[0m\u001b[0;34m\u001b[0m\u001b[0m\n\u001b[0m",
            "\u001b[0;31mTypeError\u001b[0m: func_imp_datos_de_bici() missing 3 required positional arguments: 'nro_radios', 'd_rueda', and 'estado'"
          ]
        }
      ],
      "source": [
        "mi_bici.imprimir_datos()"
      ]
    },
    {
      "cell_type": "markdown",
      "id": "d1815579",
      "metadata": {
        "id": "d1815579"
      },
      "source": [
        "No a funcionado por que los parámetros de la función no hacen referencia a los atributos de la clase"
      ]
    },
    {
      "cell_type": "code",
      "execution_count": null,
      "id": "8f209552",
      "metadata": {
        "id": "8f209552"
      },
      "outputs": [],
      "source": [
        "class Bici:\n",
        "    def __init__(self, tipo_sillin, num_radios, diam_rueda):\n",
        "        self.tipo_sillin = tipo_sillin\n",
        "        self.num_radios = num_radios\n",
        "        self.diam_rueda = diam_rueda\n",
        "        self.frenada = True\n",
        "\n",
        "    def pedalear(self):\n",
        "        self.frenada = False\n",
        "        print('La bici se está moviendo gracias a vos')\n",
        "\n",
        "     # Hay parámetros adicionales no definidos dentro de la clase, por lo que si no le proporcionamos esos parámetros, simplemente\n",
        "     # Nos devuelve un error\n",
        "    def func_imp_datos_de_bici(sillin, nro_radios, d_rueda, estado):\n",
        "        print(\"Las características de mi_bici son las siguientes:\")\n",
        "        print(\"Sillín: \" + sillin)\n",
        "        print(\"Nro de radios: \" + str(nro_radios))\n",
        "        print(\"Diámetro de rueda: \" + str(d_rueda))\n",
        "        print(\"La bici se encuentra parada? \" + str(estado))\n",
        "\n"
      ]
    },
    {
      "cell_type": "markdown",
      "id": "230ad89d",
      "metadata": {
        "id": "230ad89d"
      },
      "source": [
        "Entonces, modificaremos la función para que haga referencia a los atributos de la clase"
      ]
    },
    {
      "cell_type": "code",
      "execution_count": null,
      "id": "43b1e926",
      "metadata": {
        "id": "43b1e926"
      },
      "outputs": [],
      "source": [
        "def func_imp_datos_de_bici(tipo_sillin, num_radios, diam_rueda, frenada):\n",
        "    print(\"Las características de mi_bici son las siguientes:\")\n",
        "    print(\"Sillín: \" + tipo_sillin)\n",
        "    print(\"Nro de radios: \" + str(num_radios))\n",
        "    print(\"Diámetro de rueda: \" + str(diam_rueda))\n",
        "    print(\"La bici se encuentra parada? \" + str(frenada))"
      ]
    },
    {
      "cell_type": "code",
      "execution_count": null,
      "id": "fc6f9d1d",
      "metadata": {
        "colab": {
          "base_uri": "https://localhost:8080/",
          "height": 167
        },
        "id": "fc6f9d1d",
        "outputId": "1cd89884-f454-41c3-d43a-3c511cecc5dd"
      },
      "outputs": [
        {
          "output_type": "error",
          "ename": "TypeError",
          "evalue": "ignored",
          "traceback": [
            "\u001b[0;31m---------------------------------------------------------------------------\u001b[0m",
            "\u001b[0;31mTypeError\u001b[0m                                 Traceback (most recent call last)",
            "\u001b[0;32m<ipython-input-71-0ca2f07fd319>\u001b[0m in \u001b[0;36m<cell line: 1>\u001b[0;34m()\u001b[0m\n\u001b[0;32m----> 1\u001b[0;31m \u001b[0mmi_bici\u001b[0m\u001b[0;34m.\u001b[0m\u001b[0mimprimir_datos\u001b[0m\u001b[0;34m(\u001b[0m\u001b[0;34m)\u001b[0m\u001b[0;34m\u001b[0m\u001b[0;34m\u001b[0m\u001b[0m\n\u001b[0m",
            "\u001b[0;31mTypeError\u001b[0m: func_imp_datos_de_bici() missing 3 required positional arguments: 'nro_radios', 'd_rueda', and 'estado'"
          ]
        }
      ],
      "source": [
        "mi_bici.imprimir_datos()"
      ]
    },
    {
      "cell_type": "markdown",
      "id": "4be9720e",
      "metadata": {
        "id": "4be9720e"
      },
      "source": [
        "Nos da error porque al definir la función hemos pasado parámetros adicionales  \n",
        "dentro de los paréntesis y al intentar usar esos atributos,  python los reconoce como adicionales, por lo que al definir una nueva funcion que utilice los atributos de la clase, debemos utilizar directamente el self y en caso de requerirlo parámetros adicionales"
      ]
    },
    {
      "cell_type": "code",
      "execution_count": null,
      "id": "5fba4e0c",
      "metadata": {
        "id": "5fba4e0c"
      },
      "outputs": [],
      "source": [
        "def func_imp_datos_de_bici(self):\n",
        "    print(\"Las características de mi_bici son las siguientes:\")\n",
        "    print(\"Sillín: \" + self.tipo_sillin)\n",
        "    print(\"Nro de radios: \" + str(self.num_radios))\n",
        "    print(\"Diámetro de rueda: \" + str(self.diam_rueda))\n",
        "    print(\"La bici se encuentra parada? \" + str(self.frenada))"
      ]
    },
    {
      "cell_type": "code",
      "execution_count": null,
      "id": "78f10eec",
      "metadata": {
        "id": "78f10eec"
      },
      "outputs": [],
      "source": [
        "setattr(Bici, 'imprimir_datos', func_imp_datos_de_bici)"
      ]
    },
    {
      "cell_type": "code",
      "execution_count": null,
      "id": "95d71522",
      "metadata": {
        "colab": {
          "base_uri": "https://localhost:8080/",
          "height": 167
        },
        "id": "95d71522",
        "outputId": "ba4ebe37-295c-4193-ebfe-d28d45413fe7"
      },
      "outputs": [
        {
          "output_type": "error",
          "ename": "TypeError",
          "evalue": "ignored",
          "traceback": [
            "\u001b[0;31m---------------------------------------------------------------------------\u001b[0m",
            "\u001b[0;31mTypeError\u001b[0m                                 Traceback (most recent call last)",
            "\u001b[0;32m<ipython-input-83-0ca2f07fd319>\u001b[0m in \u001b[0;36m<cell line: 1>\u001b[0;34m()\u001b[0m\n\u001b[0;32m----> 1\u001b[0;31m \u001b[0mmi_bici\u001b[0m\u001b[0;34m.\u001b[0m\u001b[0mimprimir_datos\u001b[0m\u001b[0;34m(\u001b[0m\u001b[0;34m)\u001b[0m\u001b[0;34m\u001b[0m\u001b[0;34m\u001b[0m\u001b[0m\n\u001b[0m",
            "\u001b[0;31mTypeError\u001b[0m: func_imp_datos_de_bici() missing 3 required positional arguments: 'nro_radios', 'd_rueda', and 'estado'"
          ]
        }
      ],
      "source": [
        "mi_bici.imprimir_datos()"
      ]
    },
    {
      "cell_type": "markdown",
      "id": "a76827d2",
      "metadata": {
        "id": "a76827d2"
      },
      "source": [
        "Ahora vamos a instanciar una vez más la clase Bici"
      ]
    },
    {
      "cell_type": "code",
      "execution_count": null,
      "id": "e065f3b3",
      "metadata": {
        "id": "e065f3b3"
      },
      "outputs": [],
      "source": [
        "mi_bici_de_repuesto =  Bici(\"pequeña\",12,545)"
      ]
    },
    {
      "cell_type": "code",
      "source": [
        "mi_bici_de_repuesto.imprimir_datos()"
      ],
      "metadata": {
        "colab": {
          "base_uri": "https://localhost:8080/"
        },
        "id": "L0r5YNWxy6qV",
        "outputId": "2e1a9d8d-88da-40a2-d000-41e479099afe"
      },
      "id": "L0r5YNWxy6qV",
      "execution_count": null,
      "outputs": [
        {
          "output_type": "stream",
          "name": "stdout",
          "text": [
            "Las características de mi_bici son las siguientes:\n",
            "Sillín: pequeña\n",
            "Nro de radios: 12\n",
            "Diámetro de rueda: 545\n",
            "La bici se encuentra parada? True\n"
          ]
        }
      ]
    },
    {
      "cell_type": "markdown",
      "id": "7ae100bf",
      "metadata": {
        "id": "7ae100bf"
      },
      "source": [
        "Y veamos sus caraterísticas"
      ]
    },
    {
      "cell_type": "code",
      "execution_count": null,
      "id": "c4b277b8",
      "metadata": {
        "colab": {
          "base_uri": "https://localhost:8080/",
          "height": 219
        },
        "id": "c4b277b8",
        "outputId": "22c0ea57-1e0a-45c1-a271-ebefd92e221d"
      },
      "outputs": [
        {
          "output_type": "stream",
          "name": "stdout",
          "text": [
            "Mis bicis: \n"
          ]
        },
        {
          "output_type": "error",
          "ename": "TypeError",
          "evalue": "ignored",
          "traceback": [
            "\u001b[0;31m---------------------------------------------------------------------------\u001b[0m",
            "\u001b[0;31mTypeError\u001b[0m                                 Traceback (most recent call last)",
            "\u001b[0;32m<ipython-input-78-e1c7c0ae7320>\u001b[0m in \u001b[0;36m<cell line: 2>\u001b[0;34m()\u001b[0m\n\u001b[1;32m      1\u001b[0m \u001b[0mprint\u001b[0m\u001b[0;34m(\u001b[0m\u001b[0;34m\"Mis bicis: \"\u001b[0m\u001b[0;34m)\u001b[0m\u001b[0;34m\u001b[0m\u001b[0;34m\u001b[0m\u001b[0m\n\u001b[0;32m----> 2\u001b[0;31m \u001b[0mmi_bici\u001b[0m\u001b[0;34m.\u001b[0m\u001b[0mimprimir_datos\u001b[0m\u001b[0;34m(\u001b[0m\u001b[0;34m)\u001b[0m\u001b[0;34m\u001b[0m\u001b[0;34m\u001b[0m\u001b[0m\n\u001b[0m\u001b[1;32m      3\u001b[0m \u001b[0mmi_bici_de_repuesto\u001b[0m\u001b[0;34m.\u001b[0m\u001b[0mimprimir_datos\u001b[0m\u001b[0;34m(\u001b[0m\u001b[0;34m)\u001b[0m\u001b[0;34m\u001b[0m\u001b[0;34m\u001b[0m\u001b[0m\n",
            "\u001b[0;31mTypeError\u001b[0m: func_imp_datos_de_bici() missing 3 required positional arguments: 'nro_radios', 'd_rueda', and 'estado'"
          ]
        }
      ],
      "source": [
        "print(\"Mis bicis: \")\n",
        "mi_bici.imprimir_datos()\n",
        "mi_bici_de_repuesto.imprimir_datos()"
      ]
    },
    {
      "cell_type": "markdown",
      "id": "7121354b",
      "metadata": {
        "id": "7121354b"
      },
      "source": [
        "Imprimimos las dos instancias de la clase Bici"
      ]
    },
    {
      "cell_type": "markdown",
      "id": "9c2d0b18",
      "metadata": {
        "id": "9c2d0b18"
      },
      "source": [
        "Todo valor es un objeto, y por lo tanto tiene una clase (también llamado su tipo). Ésta se almacena como objeto.__class__."
      ]
    },
    {
      "cell_type": "code",
      "execution_count": null,
      "id": "09a808ab",
      "metadata": {
        "colab": {
          "base_uri": "https://localhost:8080/"
        },
        "id": "09a808ab",
        "outputId": "2365982c-8137-4710-b636-e19c2de2184e"
      },
      "outputs": [
        {
          "output_type": "execute_result",
          "data": {
            "text/plain": [
              "__main__.Bici"
            ]
          },
          "metadata": {},
          "execution_count": 79
        }
      ],
      "source": [
        "mi_bici.__class__"
      ]
    },
    {
      "cell_type": "code",
      "execution_count": null,
      "id": "e85bdaad",
      "metadata": {
        "colab": {
          "base_uri": "https://localhost:8080/",
          "height": 167
        },
        "id": "e85bdaad",
        "outputId": "9777e9c8-0f64-4358-96ab-7aa561635cf4"
      },
      "outputs": [
        {
          "output_type": "error",
          "ename": "TypeError",
          "evalue": "ignored",
          "traceback": [
            "\u001b[0;31m---------------------------------------------------------------------------\u001b[0m",
            "\u001b[0;31mTypeError\u001b[0m                                 Traceback (most recent call last)",
            "\u001b[0;32m<ipython-input-80-5e5f4306f22d>\u001b[0m in \u001b[0;36m<cell line: 1>\u001b[0;34m()\u001b[0m\n\u001b[0;32m----> 1\u001b[0;31m \u001b[0mmi_bici\u001b[0m\u001b[0;34m.\u001b[0m\u001b[0mimprimir_datos\u001b[0m\u001b[0;34m(\u001b[0m\u001b[0;34m)\u001b[0m\u001b[0;34m.\u001b[0m\u001b[0m__class__\u001b[0m\u001b[0;34m\u001b[0m\u001b[0;34m\u001b[0m\u001b[0m\n\u001b[0m",
            "\u001b[0;31mTypeError\u001b[0m: func_imp_datos_de_bici() missing 3 required positional arguments: 'nro_radios', 'd_rueda', and 'estado'"
          ]
        }
      ],
      "source": [
        "mi_bici.imprimir_datos().__class__"
      ]
    },
    {
      "cell_type": "code",
      "execution_count": null,
      "id": "f697355c",
      "metadata": {
        "id": "f697355c",
        "outputId": "abb350f8-0f6f-45c6-f43d-b5efcda12669"
      },
      "outputs": [
        {
          "name": "stdout",
          "output_type": "stream",
          "text": [
            "Las características de mi_bici son las siguientes:\n",
            "Sillín: grande\n",
            "Nro de radios: 28\n",
            "Diámetro de rueda: 560\n",
            "La bici se encuentra parada? False\n"
          ]
        }
      ],
      "source": [
        "mi_bici.imprimir_datos()"
      ]
    },
    {
      "cell_type": "markdown",
      "id": "9a0f8e3f",
      "metadata": {
        "id": "9a0f8e3f"
      },
      "source": [
        "#### 2.3 Herencia"
      ]
    },
    {
      "cell_type": "code",
      "execution_count": null,
      "id": "ac4a5163",
      "metadata": {
        "id": "ac4a5163"
      },
      "outputs": [],
      "source": [
        "# Clase base\n",
        "class Bici:\n",
        "    def __init__(self, tipo_sillin, num_radios):\n",
        "        self.tipo_sillin = tipo_sillin\n",
        "        self.num_radios = num_radios\n",
        "        self.frenada = True\n",
        "\n",
        "    def pedalear(self):\n",
        "        self.frenada = False\n",
        "        print('La bici se está moviendo gracias a vos')"
      ]
    },
    {
      "cell_type": "code",
      "execution_count": null,
      "id": "27485fc1",
      "metadata": {
        "id": "27485fc1"
      },
      "outputs": [],
      "source": [
        "# Clase derivada\n",
        "class Montanha(Bici): # Una clase para un tipo de bici\n",
        "\n",
        "    def __init__(self,  tipo_sillin, num_radios,cambios):\n",
        "        super().__init__(tipo_sillin, num_radios)\n",
        "        self.cambios = cambios\n"
      ]
    },
    {
      "cell_type": "markdown",
      "id": "fb7a388e",
      "metadata": {
        "id": "fb7a388e"
      },
      "source": [
        " super().__init__(tipo_sillin, num_radios) llama al constructor de la clase base (Bici) y le pasa los argumentos tipo_sillin y num_radios. Esto garantiza que los atributos de la clase base se configuren adecuadamente antes de realizar cualquier otra inicialización adicional en la subclase (Montanha)."
      ]
    },
    {
      "cell_type": "code",
      "execution_count": null,
      "id": "87392ca7",
      "metadata": {
        "colab": {
          "base_uri": "https://localhost:8080/"
        },
        "id": "87392ca7",
        "outputId": "315d6b31-d3b7-4543-9a05-ae420a499d02"
      },
      "outputs": [
        {
          "output_type": "stream",
          "name": "stdout",
          "text": [
            "5\n"
          ]
        }
      ],
      "source": [
        "mi_nueva_bici = Montanha(\"grande\",3,5)\n",
        "print(mi_nueva_bici.cambios)"
      ]
    },
    {
      "cell_type": "code",
      "execution_count": null,
      "id": "a52b170f",
      "metadata": {
        "colab": {
          "base_uri": "https://localhost:8080/"
        },
        "id": "a52b170f",
        "outputId": "622b028c-94fb-414c-eb62-746696cb81a1"
      },
      "outputs": [
        {
          "output_type": "stream",
          "name": "stdout",
          "text": [
            "grande\n"
          ]
        }
      ],
      "source": [
        "print(mi_nueva_bici.tipo_sillin)"
      ]
    }
  ],
  "metadata": {
    "kernelspec": {
      "display_name": "Python 3 (ipykernel)",
      "language": "python",
      "name": "python3"
    },
    "language_info": {
      "codemirror_mode": {
        "name": "ipython",
        "version": 3
      },
      "file_extension": ".py",
      "mimetype": "text/x-python",
      "name": "python",
      "nbconvert_exporter": "python",
      "pygments_lexer": "ipython3",
      "version": "3.11.3"
    },
    "colab": {
      "provenance": []
    }
  },
  "nbformat": 4,
  "nbformat_minor": 5
}